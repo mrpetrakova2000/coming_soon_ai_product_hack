{
 "cells": [
  {
   "cell_type": "code",
   "execution_count": 19,
   "metadata": {},
   "outputs": [],
   "source": [
    "import pandas as pd\n",
    "import numpy as np\n",
    "import tqdm\n",
    "from collections import defaultdict\n",
    "from pathlib import Path\n",
    "\n",
    "\n",
    "from backend.ml_pipeline.preprocess_for_inference import calculate_features_for_inference \n",
    "from backend.ml_pipeline.configs.feature_params import one_day_params\n",
    "\n",
    "import os\n",
    "os.chdir('/home/evgenii/work/itmo/coming_soon_ai_product_hack/')"
   ]
  },
  {
   "cell_type": "code",
   "execution_count": 2,
   "metadata": {},
   "outputs": [],
   "source": [
    "shop_sales = pd.read_csv('./data/shop_sales.csv')\n",
    "shop_sales_dates = pd.read_csv('./data/shop_sales_dates.csv')\n",
    "clusters = pd.read_csv('./data/clusters.csv')\n",
    "sku = pd.read_csv('./data/item_064.csv')"
   ]
  },
  {
   "cell_type": "code",
   "execution_count": 3,
   "metadata": {},
   "outputs": [],
   "source": [
    "data = shop_sales.merge(shop_sales_dates, how='left', on='date_id')"
   ]
  },
  {
   "cell_type": "code",
   "execution_count": 16,
   "metadata": {},
   "outputs": [],
   "source": [
    "def split_dataset(data: pd.DataFrame, train_rate = 0.7, val_rate = 0.2, test_rate = 0.1):\n",
    "    train_size = int(len(data) * train_rate)\n",
    "    val_size = int(len(data) * val_rate)\n",
    "    train_data = data[:train_size]\n",
    "    val_data = data[train_size:train_size + val_size]\n",
    "    test_data = data[train_size + val_size:]\n",
    "\n",
    "    return train_data, val_data, test_data\n",
    "\n",
    "def calculate_features(data: pd.DataFrame, granularity: str):\n",
    "    match granularity:\n",
    "        case 'one_day':\n",
    "            granularity_params = one_day_params\n",
    "            shift = 1\n",
    "        case 'seven_days':\n",
    "            pass\n",
    "        case 'thirty_days':\n",
    "            pass\n",
    "    \n",
    "    data_with_features = calculate_features_for_inference(data=data, params=granularity_params)\n",
    "    data_with_features = data_with_features.copy()\n",
    "    data_with_features.loc[:, 'Y'] = data_with_features['cnt'].shift(shift)\n",
    "    data_with_features = data_with_features.drop(columns=['date'])\n",
    "    data_with_features = data_with_features.dropna()\n",
    "\n",
    "\n",
    "    return data_with_features"
   ]
  },
  {
   "cell_type": "code",
   "execution_count": 12,
   "metadata": {},
   "outputs": [
    {
     "name": "stderr",
     "output_type": "stream",
     "text": [
      "100%|██████████| 1/1 [00:00<00:00,  8.87it/s]\n",
      "100%|██████████| 21/21 [00:00<00:00, 32.80it/s]\n",
      "100%|██████████| 14/14 [00:00<00:00, 32.58it/s]\n",
      "100%|██████████| 1/1 [00:00<00:00, 27.00it/s]\n",
      "100%|██████████| 2/2 [00:00<00:00, 31.75it/s]\n",
      "100%|██████████| 6/6 [00:00<00:00, 28.21it/s]\n"
     ]
    }
   ],
   "source": [
    "cluster_datasets = defaultdict(lambda: defaultdict(list))\n",
    "\n",
    "unique_clusters = np.sort(clusters['cluster'].unique())\n",
    "for cluster_id in unique_clusters:\n",
    "    item_ids_for_given_cluster = clusters[clusters['cluster'] == cluster_id]['item_id'].unique()\n",
    "    for item_id in tqdm.tqdm(item_ids_for_given_cluster):\n",
    "        sku = data[data['item_id'] == item_id]\n",
    "        sku.loc[:, 'date'] = pd.to_datetime(sku['date'])\n",
    "        sku_sorted = sku.sort_values(by='date')\n",
    "        \n",
    "        # Calculate features:\n",
    "        sku_features_data = calculate_features(sku_sorted[['cnt', 'date']].copy(), 'one_day')\n",
    "\n",
    "        # Split dataset:\n",
    "        train_data, val_data, test_data = split_dataset(sku_features_data)\n",
    "\n",
    "        cluster_datasets[cluster_id]['train'].append(train_data)\n",
    "        cluster_datasets[cluster_id]['val'].append(val_data)\n",
    "        cluster_datasets[cluster_id]['test'].append(test_data)"
   ]
  },
  {
   "cell_type": "code",
   "execution_count": 13,
   "metadata": {},
   "outputs": [],
   "source": [
    "PATH_TO_SAVE = Path(\"./backend/ml_pipeline/datasets\")\n",
    "\n",
    "for cluster_num, data in cluster_datasets.items():\n",
    "    # Concatenate DataFrames for 'train', 'val', and 'test'\n",
    "    train_df = pd.concat(data['train'], ignore_index=True)\n",
    "    val_df = pd.concat(data['val'], ignore_index=True)\n",
    "    test_df = pd.concat(data['test'], ignore_index=True)\n",
    "\n",
    "    train_df.to_csv(PATH_TO_SAVE / f'cluster_{cluster_num}_train.csv', index=False)\n",
    "    val_df.to_csv(PATH_TO_SAVE / f'cluster_{cluster_num}_val.csv', index=False)\n",
    "    test_df.to_csv(PATH_TO_SAVE / f'cluster_{cluster_num}_test.csv', index=False)"
   ]
  }
 ],
 "metadata": {
  "kernelspec": {
   "display_name": ".venv_ml",
   "language": "python",
   "name": "python3"
  },
  "language_info": {
   "codemirror_mode": {
    "name": "ipython",
    "version": 3
   },
   "file_extension": ".py",
   "mimetype": "text/x-python",
   "name": "python",
   "nbconvert_exporter": "python",
   "pygments_lexer": "ipython3",
   "version": "3.10.12"
  }
 },
 "nbformat": 4,
 "nbformat_minor": 2
}
